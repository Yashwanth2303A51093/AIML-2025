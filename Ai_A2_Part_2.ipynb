{
  "nbformat": 4,
  "nbformat_minor": 0,
  "metadata": {
    "colab": {
      "provenance": [],
      "include_colab_link": true
    },
    "kernelspec": {
      "name": "python3",
      "display_name": "Python 3"
    },
    "language_info": {
      "name": "python"
    }
  },
  "cells": [
    {
      "cell_type": "markdown",
      "metadata": {
        "id": "view-in-github",
        "colab_type": "text"
      },
      "source": [
        "<a href=\"https://colab.research.google.com/github/Yashwanth2303A51093/AIML-2025/blob/main/Ai_A2_Part_2.ipynb\" target=\"_parent\"><img src=\"https://colab.research.google.com/assets/colab-badge.svg\" alt=\"Open In Colab\"/></a>"
      ]
    },
    {
      "cell_type": "code",
      "execution_count": null,
      "metadata": {
        "colab": {
          "base_uri": "https://localhost:8080/"
        },
        "id": "oypygHqXS7dz",
        "outputId": "3bead45b-eb24-4664-9b43-45e2b06e854c"
      },
      "outputs": [
        {
          "output_type": "stream",
          "name": "stdout",
          "text": [
            "DFS from source: 1\n",
            "1 2 0 3 4 "
          ]
        }
      ],
      "source": [
        "#DFS\n",
        "\n",
        "def add_edge(adj, s, t):\n",
        "    # Add edge from vertex s to t\n",
        "    adj[s].append(t)\n",
        "    # Due to undirected Graph\n",
        "    adj[t].append(s)\n",
        "\n",
        "\n",
        "def dfs_rec(adj, visited, s):\n",
        "    # Mark the current vertex as visited\n",
        "    visited[s] = True\n",
        "\n",
        "    # Print the current vertex\n",
        "    print(s, end=\" \")\n",
        "\n",
        "    # Recursively visit all adjacent vertices\n",
        "    # that are not visited yet\n",
        "    for i in adj[s]:\n",
        "        if not visited[i]:\n",
        "            dfs_rec(adj, visited, i)\n",
        "\n",
        "\n",
        "def dfs(adj, s):\n",
        "    visited = [False] * len(adj)\n",
        "    # Call the recursive DFS function\n",
        "    dfs_rec(adj, visited, s)\n",
        "\n",
        "\n",
        "if __name__ == \"__main__\":\n",
        "    V = 5\n",
        "\n",
        "    # Create an adjacency list for the graph\n",
        "    adj = [[] for _ in range(V)]\n",
        "\n",
        "    # Define the edges of the graph\n",
        "    edges = [[1, 2], [1, 0], [2, 0], [2, 3], [2, 4]]\n",
        "\n",
        "    # Populate the adjacency list with edges\n",
        "    for e in edges:\n",
        "        add_edge(adj, e[0], e[1])\n",
        "\n",
        "    source = 1\n",
        "    print(\"DFS from source:\", source)\n",
        "    dfs(adj, source)"
      ]
    }
  ]
}