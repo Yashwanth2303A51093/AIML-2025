{
  "nbformat": 4,
  "nbformat_minor": 0,
  "metadata": {
    "colab": {
      "provenance": [],
      "include_colab_link": true
    },
    "kernelspec": {
      "name": "python3",
      "display_name": "Python 3"
    },
    "language_info": {
      "name": "python"
    }
  },
  "cells": [
    {
      "cell_type": "markdown",
      "metadata": {
        "id": "view-in-github",
        "colab_type": "text"
      },
      "source": [
        "<a href=\"https://colab.research.google.com/github/Yashwanth2303A51093/AIML-2025/blob/main/Ai_A1__Part_1.ipynb\" target=\"_parent\"><img src=\"https://colab.research.google.com/assets/colab-badge.svg\" alt=\"Open In Colab\"/></a>"
      ]
    },
    {
      "cell_type": "code",
      "execution_count": null,
      "metadata": {
        "colab": {
          "base_uri": "https://localhost:8080/"
        },
        "id": "vHwDHcOj-_pj",
        "outputId": "0cf130e8-f0e8-4673-8cf8-3aee28282ac8"
      },
      "outputs": [
        {
          "output_type": "stream",
          "name": "stdout",
          "text": [
            "['apple', 'banana', 'cherry']\n",
            "[1 2 3 4]\n",
            "<class 'list'>\n",
            "<class 'numpy.ndarray'>\n",
            "1.0\n",
            "2.302585092994046\n",
            "3.321928094887362\n",
            "[54.59815003  1.        ]\n",
            "[2 4 6]\n"
          ]
        }
      ],
      "source": [
        "#chan\n",
        "# 1st Question \"List\"\n",
        "mylist = [\"apple\", \"banana\", \"cherry\"]\n",
        "print(mylist)\n",
        "\n",
        "\n",
        "#chan\n",
        "# 2st Question \"Arrays\"\n",
        "import numpy\n",
        "arr_x=numpy.array([1,2,3,4])\n",
        "print(arr_x)\n",
        "\n",
        "#3rd Question Type\n",
        "print(type(mylist))\n",
        "print(type(arr_x))\n",
        "\n",
        "# 4th Question\n",
        "import numpy\n",
        "sine=numpy.sin(numpy.pi/2)\n",
        "log=numpy.log(10)\n",
        "log2=numpy.log2(10)\n",
        "exp=numpy.exp([4,0])\n",
        "print(sine)\n",
        "print(log)\n",
        "print(log2)\n",
        "print(exp)\n",
        "\n",
        "# 5th Question\n",
        "num_add_1=numpy.array([1,2,3])\n",
        "num_add_2=numpy.array([1,2,3])\n",
        "print(numpy.add(num_add_1,num_add_2))\n"
      ]
    },
    {
      "cell_type": "markdown",
      "source": [],
      "metadata": {
        "id": "XOeu8wA8HbRk"
      }
    }
  ]
}